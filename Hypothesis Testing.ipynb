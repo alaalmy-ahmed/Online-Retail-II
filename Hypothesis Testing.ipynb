{
 "cells": [
  {
   "cell_type": "code",
   "execution_count": 20,
   "metadata": {},
   "outputs": [],
   "source": [
    "import numpy as np\n",
    "import pandas as pd\n",
    "from scipy import stats"
   ]
  },
  {
   "attachments": {},
   "cell_type": "markdown",
   "metadata": {},
   "source": [
    "# The Hypotheses that need to be tested:\n",
    "- Customer with ID: `14911` from Ireland is the highest Customer spending money and requesting quantities.\n",
    "- Oct_10, Nov_10 are the top two months in Quantities and Prices demanded.\n",
    "- seems that firs and last days of the week have the highest Prices and Quantities.\n",
    "- Saturday has the least amount of quantity and Profit.\n",
    "- Thursday is the highest day with quantity and profit.\n",
    "- There is a clear trend, the number of orders increases from 7am onwards and peaks at noon, and then slowly decreases and ends at 8pm.\n",
    "- Most people order between 10am and 3pm. \n",
    "- United Kingdom has the highest score of Invoices, Quantities and Prices. but it has a huge number of invoices so I will ignore it and recreate the plot to see the scores of the rest of the countries.\n",
    "    - Germany, Ireland, France and Netherlands are respectively the top 4 countries requesting Invoices. As the physical distance from the UK increases with each country, fewer orders are placed.\n",
    "    - Ireland, Germany, France and Netherlands are respectively the top 4 countries requesting  Prices and Quantites. Ireland has a little bit lower Quantity score than Germany but it has higher score in prices.\n"
   ]
  },
  {
   "cell_type": "code",
   "execution_count": 21,
   "metadata": {},
   "outputs": [
    {
     "data": {
      "text/html": [
       "<div>\n",
       "<style scoped>\n",
       "    .dataframe tbody tr th:only-of-type {\n",
       "        vertical-align: middle;\n",
       "    }\n",
       "\n",
       "    .dataframe tbody tr th {\n",
       "        vertical-align: top;\n",
       "    }\n",
       "\n",
       "    .dataframe thead th {\n",
       "        text-align: right;\n",
       "    }\n",
       "</style>\n",
       "<table border=\"1\" class=\"dataframe\">\n",
       "  <thead>\n",
       "    <tr style=\"text-align: right;\">\n",
       "      <th></th>\n",
       "      <th>Invoice</th>\n",
       "      <th>StockCode</th>\n",
       "      <th>Description</th>\n",
       "      <th>Quantity</th>\n",
       "      <th>InvoiceDate</th>\n",
       "      <th>Price</th>\n",
       "      <th>Customer ID</th>\n",
       "      <th>Country</th>\n",
       "      <th>UnitPrice</th>\n",
       "      <th>Year</th>\n",
       "      <th>Month</th>\n",
       "      <th>Day</th>\n",
       "      <th>Hour</th>\n",
       "      <th>WeekDay</th>\n",
       "    </tr>\n",
       "  </thead>\n",
       "  <tbody>\n",
       "    <tr>\n",
       "      <th>0</th>\n",
       "      <td>489434</td>\n",
       "      <td>85048</td>\n",
       "      <td>15CM CHRISTMAS GLASS BALL 20 LIGHTS</td>\n",
       "      <td>12</td>\n",
       "      <td>2009-12-01 07:45:00</td>\n",
       "      <td>6.95</td>\n",
       "      <td>13085</td>\n",
       "      <td>United Kingdom</td>\n",
       "      <td>1.73</td>\n",
       "      <td>2009</td>\n",
       "      <td>12</td>\n",
       "      <td>1</td>\n",
       "      <td>7</td>\n",
       "      <td>Tuesday</td>\n",
       "    </tr>\n",
       "    <tr>\n",
       "      <th>1</th>\n",
       "      <td>489434</td>\n",
       "      <td>79323P</td>\n",
       "      <td>PINK CHERRY LIGHTS</td>\n",
       "      <td>12</td>\n",
       "      <td>2009-12-01 07:45:00</td>\n",
       "      <td>6.75</td>\n",
       "      <td>13085</td>\n",
       "      <td>United Kingdom</td>\n",
       "      <td>1.78</td>\n",
       "      <td>2009</td>\n",
       "      <td>12</td>\n",
       "      <td>1</td>\n",
       "      <td>7</td>\n",
       "      <td>Tuesday</td>\n",
       "    </tr>\n",
       "    <tr>\n",
       "      <th>2</th>\n",
       "      <td>489434</td>\n",
       "      <td>79323W</td>\n",
       "      <td>WHITE CHERRY LIGHTS</td>\n",
       "      <td>12</td>\n",
       "      <td>2009-12-01 07:45:00</td>\n",
       "      <td>6.75</td>\n",
       "      <td>13085</td>\n",
       "      <td>United Kingdom</td>\n",
       "      <td>1.78</td>\n",
       "      <td>2009</td>\n",
       "      <td>12</td>\n",
       "      <td>1</td>\n",
       "      <td>7</td>\n",
       "      <td>Tuesday</td>\n",
       "    </tr>\n",
       "    <tr>\n",
       "      <th>3</th>\n",
       "      <td>489434</td>\n",
       "      <td>22041</td>\n",
       "      <td>RECORD FRAME 7\" SINGLE SIZE</td>\n",
       "      <td>48</td>\n",
       "      <td>2009-12-01 07:45:00</td>\n",
       "      <td>2.10</td>\n",
       "      <td>13085</td>\n",
       "      <td>United Kingdom</td>\n",
       "      <td>22.86</td>\n",
       "      <td>2009</td>\n",
       "      <td>12</td>\n",
       "      <td>1</td>\n",
       "      <td>7</td>\n",
       "      <td>Tuesday</td>\n",
       "    </tr>\n",
       "    <tr>\n",
       "      <th>4</th>\n",
       "      <td>489434</td>\n",
       "      <td>21232</td>\n",
       "      <td>STRAWBERRY CERAMIC TRINKET BOX</td>\n",
       "      <td>24</td>\n",
       "      <td>2009-12-01 07:45:00</td>\n",
       "      <td>1.25</td>\n",
       "      <td>13085</td>\n",
       "      <td>United Kingdom</td>\n",
       "      <td>19.20</td>\n",
       "      <td>2009</td>\n",
       "      <td>12</td>\n",
       "      <td>1</td>\n",
       "      <td>7</td>\n",
       "      <td>Tuesday</td>\n",
       "    </tr>\n",
       "  </tbody>\n",
       "</table>\n",
       "</div>"
      ],
      "text/plain": [
       "   Invoice StockCode                          Description  Quantity  \\\n",
       "0   489434     85048  15CM CHRISTMAS GLASS BALL 20 LIGHTS        12   \n",
       "1   489434    79323P                   PINK CHERRY LIGHTS        12   \n",
       "2   489434    79323W                  WHITE CHERRY LIGHTS        12   \n",
       "3   489434     22041         RECORD FRAME 7\" SINGLE SIZE         48   \n",
       "4   489434     21232       STRAWBERRY CERAMIC TRINKET BOX        24   \n",
       "\n",
       "           InvoiceDate  Price  Customer ID         Country  UnitPrice  Year  \\\n",
       "0  2009-12-01 07:45:00   6.95        13085  United Kingdom       1.73  2009   \n",
       "1  2009-12-01 07:45:00   6.75        13085  United Kingdom       1.78  2009   \n",
       "2  2009-12-01 07:45:00   6.75        13085  United Kingdom       1.78  2009   \n",
       "3  2009-12-01 07:45:00   2.10        13085  United Kingdom      22.86  2009   \n",
       "4  2009-12-01 07:45:00   1.25        13085  United Kingdom      19.20  2009   \n",
       "\n",
       "   Month  Day  Hour  WeekDay  \n",
       "0     12    1     7  Tuesday  \n",
       "1     12    1     7  Tuesday  \n",
       "2     12    1     7  Tuesday  \n",
       "3     12    1     7  Tuesday  \n",
       "4     12    1     7  Tuesday  "
      ]
     },
     "execution_count": 21,
     "metadata": {},
     "output_type": "execute_result"
    }
   ],
   "source": [
    "df = pd.read_csv(\"New Retail.csv\")\n",
    "df.head()"
   ]
  },
  {
   "cell_type": "code",
   "execution_count": 22,
   "metadata": {},
   "outputs": [],
   "source": [
    "def test_two_samples(col, categroy_of_interest, feature, alternative='greater'):\n",
    "    mask = df[col] == categroy_of_interest\n",
    "    \n",
    "    revenue = df[feature][mask]\n",
    "    no_revenue = df[feature][~mask]\n",
    "\n",
    "    t_stat, p_value = stats.ttest_ind(revenue, no_revenue, alternative=alternative, equal_var=False)\n",
    "    print(f'statistic is : {t_stat:.003f}, p-value: {p_value:.003f}')"
   ]
  },
  {
   "attachments": {},
   "cell_type": "markdown",
   "metadata": {},
   "source": [
    "- Customer with ID: `14911` is the highest Customer spending money and requesting quantities (reject the null hypothesis)\n",
    "    - H_0 :  14911 Customer spending >= other Customer spending\n",
    "    - H_1 : other Customer spending < 14911 Customer spending"
   ]
  },
  {
   "cell_type": "code",
   "execution_count": 23,
   "metadata": {},
   "outputs": [
    {
     "name": "stdout",
     "output_type": "stream",
     "text": [
      "statistic is : 12.685, p-value: 0.000\n"
     ]
    }
   ],
   "source": [
    "test_two_samples(\"Customer ID\", 14911, \"Price\")"
   ]
  },
  {
   "attachments": {},
   "cell_type": "markdown",
   "metadata": {},
   "source": [
    "- Satuday has the lowest amount of  Quantities and Prices (fail to reject the null hypothesis). We can't generalize this hypothesis across all times.\n",
    "    - H_0 :  Saturday(Price, Quantity) >= Other Days(Price, Quantity)\n",
    "    - H_1 : Saturday(Price, Quantity) < Other Days(Price, Quantity)"
   ]
  },
  {
   "cell_type": "code",
   "execution_count": 24,
   "metadata": {},
   "outputs": [
    {
     "name": "stdout",
     "output_type": "stream",
     "text": [
      "statistic is : 5.456, p-value: 1.000\n"
     ]
    }
   ],
   "source": [
    "test_two_samples(\"WeekDay\", \"Saturday\", \"Quantity\", alternative=\"less\")"
   ]
  },
  {
   "cell_type": "code",
   "execution_count": 25,
   "metadata": {},
   "outputs": [
    {
     "name": "stdout",
     "output_type": "stream",
     "text": [
      "statistic is : 4.362, p-value: 1.000\n"
     ]
    }
   ],
   "source": [
    "test_two_samples(\"WeekDay\", \"Saturday\", \"Price\", alternative=\"less\")"
   ]
  },
  {
   "attachments": {},
   "cell_type": "markdown",
   "metadata": {},
   "source": [
    "- Thursday has the highest amount of  Quantities and Prices (Reject the null hypothesis).\n",
    "    - H_0 :  Thursday(Price, Quantity) <= Other Days(Price, Quantity)\n",
    "    - H_1 : Thursday(Price, Quantity) > Other Days(Price, Quantity)"
   ]
  },
  {
   "cell_type": "code",
   "execution_count": 28,
   "metadata": {},
   "outputs": [
    {
     "name": "stdout",
     "output_type": "stream",
     "text": [
      "statistic is : 3.150, p-value: 0.001\n"
     ]
    }
   ],
   "source": [
    "test_two_samples(\"WeekDay\", \"Thursday\", \"Price\")"
   ]
  },
  {
   "cell_type": "code",
   "execution_count": 29,
   "metadata": {},
   "outputs": [
    {
     "name": "stdout",
     "output_type": "stream",
     "text": [
      "statistic is : 6.333, p-value: 0.000\n"
     ]
    }
   ],
   "source": [
    "\n",
    "test_two_samples(\"WeekDay\", \"Thursday\", \"Quantity\")"
   ]
  },
  {
   "attachments": {},
   "cell_type": "markdown",
   "metadata": {},
   "source": [
    "- United Kingdom has the highest amount of Invoices, Quantities and Prices (fail to reject the null hypothesis). \n",
    "    - H_0 :  United Kingdom(Price, Quantity) <= Other Countries(Price, Quantity)\n",
    "    - H_1 : Other Countries(Price, Quantity) < United Kingdom(Price, Quantity)"
   ]
  },
  {
   "cell_type": "code",
   "execution_count": 31,
   "metadata": {},
   "outputs": [
    {
     "name": "stdout",
     "output_type": "stream",
     "text": [
      "statistic is : -75.799, p-value: 1.000\n"
     ]
    }
   ],
   "source": [
    "test_two_samples(\"Country\", \"United Kingdom\", \"Quantity\")\n"
   ]
  },
  {
   "cell_type": "code",
   "execution_count": 39,
   "metadata": {},
   "outputs": [
    {
     "name": "stdout",
     "output_type": "stream",
     "text": [
      "statistic is : -2.571, p-value: 0.995\n"
     ]
    }
   ],
   "source": [
    "test_two_samples(\"Country\", \"United Kingdom\", \"Price\")\n"
   ]
  },
  {
   "cell_type": "code",
   "execution_count": null,
   "metadata": {},
   "outputs": [],
   "source": []
  }
 ],
 "metadata": {
  "kernelspec": {
   "display_name": "Python 3",
   "language": "python",
   "name": "python3"
  },
  "language_info": {
   "codemirror_mode": {
    "name": "ipython",
    "version": 3
   },
   "file_extension": ".py",
   "mimetype": "text/x-python",
   "name": "python",
   "nbconvert_exporter": "python",
   "pygments_lexer": "ipython3",
   "version": "3.11.3"
  },
  "orig_nbformat": 4
 },
 "nbformat": 4,
 "nbformat_minor": 2
}
